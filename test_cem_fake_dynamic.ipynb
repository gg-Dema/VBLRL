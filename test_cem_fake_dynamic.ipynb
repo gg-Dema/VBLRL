{
 "cells": [
  {
   "cell_type": "code",
   "execution_count": 12,
   "id": "b1b75e44",
   "metadata": {},
   "outputs": [],
   "source": [
    "from cem_optimizer_v2 import CEM_opt\n",
    "from metaworld.envs import (ALL_V2_ENVIRONMENTS_GOAL_OBSERVABLE)\n",
    "\n",
    "from queue import Queue\n",
    "from IPython.display import clear_output\n",
    "\n",
    "import matplotlib.pyplot as plt\n",
    "import numpy as np\n",
    "import torch\n"
   ]
  },
  {
   "cell_type": "code",
   "execution_count": 13,
   "id": "082b3dd7",
   "metadata": {},
   "outputs": [
    {
     "name": "stderr",
     "output_type": "stream",
     "text": [
      "/home/dema/PycharmProjects/lifelong_rl/venv/lib/python3.10/site-packages/gym/spaces/box.py:127: UserWarning: \u001b[33mWARN: Box bound precision lowered by casting to float64\u001b[0m\n",
      "  logger.warn(f\"Box bound precision lowered by casting to {self.dtype}\")\n",
      "/home/dema/PycharmProjects/lifelong_rl/venv/lib/python3.10/site-packages/gym/spaces/box.py:127: UserWarning: \u001b[33mWARN: Box bound precision lowered by casting to float32\u001b[0m\n",
      "  logger.warn(f\"Box bound precision lowered by casting to {self.dtype}\")\n"
     ]
    }
   ],
   "source": [
    "env_name = 'plate-slide-side-v2-goal-observable'\n",
    "env_cls = ALL_V2_ENVIRONMENTS_GOAL_OBSERVABLE[env_name]\n",
    "env_planner = env_cls()\n",
    "env_test = env_cls()\n",
    "\n",
    "env_action_space_shape = env_test.action_space.shape[0]\n",
    "env_obs_space_shape = env_test.observation_space.shape[0]"
   ]
  },
  {
   "cell_type": "code",
   "execution_count": 43,
   "id": "f5334be7",
   "metadata": {},
   "outputs": [
    {
     "data": {
      "text/plain": [
       "array([-0.03647775, -0.01997196, -0.52366745, -0.16447898])"
      ]
     },
     "execution_count": 43,
     "metadata": {},
     "output_type": "execute_result"
    }
   ],
   "source": [
    "class InformedPlanner:\n",
    "    \n",
    "    def __init__(self, env):\n",
    "        \n",
    "        self.env = env\n",
    "        self.horizon = 20\n",
    "        self.num_sequence_action = 100\n",
    "        self.cem = CEM_opt(num_action_seq=self.num_sequence_action,\n",
    "                           action_seq_len=env_action_space_shape * self.horizon,\n",
    "                           percent_elite=0.1)\n",
    "        self.action_seq_planned = Queue(maxsize=self.horizon)\n",
    "        \n",
    "        \n",
    "    def plan(self, force_replan=False):\n",
    "        \n",
    "        if self.action_seq_planned.empty() or force_replan:\n",
    "            \n",
    "            action_sequences = self.cem.population\n",
    "            rewards = np.zeros(action_sequences.shape[0])\n",
    "            for idx, seq in enumerate(action_sequences):\n",
    "                rewards[idx] = self.eval_act_seq(seq)\n",
    "            self.cem.update(rewards)\n",
    "            \n",
    "            for act in self.cem.solutions().reshape(-1, 4):\n",
    "                self.action_seq_planned.put(act)\n",
    "        return self.action_seq_planned.get()\n",
    "            \n",
    "            \n",
    "                    \n",
    "    def eval_act_seq(self, sequence):\n",
    "        rew_seq = 0\n",
    "        self.env.reset()\n",
    "        act_reshaped = sequence.reshape((-1, 4))\n",
    "        for act in act_reshaped:\n",
    "            \n",
    "            _, r, _, _ = self.env.step(act)\n",
    "            rew_seq += r\n",
    "        return rew_seq/len(sequence)\n",
    "\n",
    "planner = InformedPlanner(env_planner)\n",
    "planner.plan()"
   ]
  },
  {
   "cell_type": "code",
   "execution_count": 44,
   "id": "f2bdfa98",
   "metadata": {},
   "outputs": [
    {
     "name": "stdout",
     "output_type": "stream",
     "text": [
      "episode 38, step 0, reward  0.20408052908578422 | done? False\n",
      "episode 38, step 1, reward  0.21453087533026677 | done? False\n",
      "episode 38, step 2, reward  0.23316362729378026 | done? False\n",
      "episode 38, step 3, reward  0.26203325867269145 | done? False\n",
      "episode 38, step 4, reward  0.3041059671819527 | done? False\n",
      "episode 38, step 5, reward  0.3629786832743111 | done? False\n",
      "episode 38, step 6, reward  0.44409461522095384 | done? False\n",
      "episode 38, step 7, reward  0.5561838940898571 | done? False\n",
      "episode 38, step 8, reward  0.7081194806270169 | done? False\n",
      "episode 38, step 9, reward  0.8926291320165323 | done? False\n",
      "episode 38, step 10, reward  1.0876131185610094 | done? False\n",
      "episode 38, step 11, reward  1.2723386729602162 | done? False\n",
      "episode 38, step 12, reward  1.4197175595938987 | done? False\n",
      "episode 38, step 13, reward  1.4965984925749818 | done? False\n",
      "episode 38, step 14, reward  1.5 | done? False\n",
      "episode 38, step 15, reward  1.5 | done? False\n",
      "episode 38, step 16, reward  1.5 | done? False\n",
      "episode 38, step 17, reward  1.5 | done? False\n",
      "episode 38, step 18, reward  2.6954574714932527 | done? False\n",
      "episode 38, step 19, reward  2.6850961030375666 | done? False\n",
      "episode 38, step 20, reward  2.6777862332160822 | done? False\n",
      "episode 38, step 21, reward  2.6784495491945943 | done? False\n",
      "episode 38, step 22, reward  2.6844838597301965 | done? False\n",
      "episode 38, step 23, reward  2.6919266430059614 | done? False\n",
      "episode 38, step 24, reward  2.7002792185742597 | done? False\n",
      "episode 38, step 25, reward  2.707649055615023 | done? False\n",
      "episode 38, step 26, reward  2.7122689966901574 | done? False\n",
      "episode 38, step 27, reward  2.7167154406485357 | done? False\n",
      "episode 38, step 28, reward  2.7211981664625062 | done? False\n",
      "episode 38, step 29, reward  2.7267054843461254 | done? False\n",
      "episode 38, step 30, reward  2.735819270413242 | done? False\n",
      "episode 38, step 31, reward  2.7458106556743425 | done? False\n",
      "episode 38, step 32, reward  2.7527807115382714 | done? False\n",
      "episode 38, step 33, reward  2.7547450366546475 | done? False\n",
      "episode 38, step 34, reward  2.75091478804563 | done? False\n",
      "episode 38, step 35, reward  2.7452644060793236 | done? False\n",
      "episode 38, step 36, reward  2.739944308981886 | done? False\n",
      "episode 38, step 37, reward  2.7340329979841913 | done? False\n",
      "episode 38, step 38, reward  2.7294616839490033 | done? False\n",
      "episode 38, step 39, reward  2.7258175998745258 | done? False\n"
     ]
    },
    {
     "ename": "KeyboardInterrupt",
     "evalue": "",
     "output_type": "error",
     "traceback": [
      "\u001b[0;31m---------------------------------------------------------------------------\u001b[0m",
      "\u001b[0;31mKeyboardInterrupt\u001b[0m                         Traceback (most recent call last)",
      "Cell \u001b[0;32mIn[44], line 13\u001b[0m\n\u001b[1;32m     11\u001b[0m r_for_ep \u001b[38;5;241m=\u001b[39m \u001b[38;5;241m0\u001b[39m\n\u001b[1;32m     12\u001b[0m \u001b[38;5;28;01mfor\u001b[39;00m h \u001b[38;5;129;01min\u001b[39;00m \u001b[38;5;28mrange\u001b[39m(\u001b[38;5;241m100\u001b[39m):\n\u001b[0;32m---> 13\u001b[0m     act \u001b[38;5;241m=\u001b[39m \u001b[43mplanner\u001b[49m\u001b[38;5;241;43m.\u001b[39;49m\u001b[43mplan\u001b[49m\u001b[43m(\u001b[49m\u001b[43m)\u001b[49m\n\u001b[1;32m     14\u001b[0m     s_prime, r, done, _ \u001b[38;5;241m=\u001b[39m env_test\u001b[38;5;241m.\u001b[39mstep(act)\n\u001b[1;32m     15\u001b[0m     r_for_ep \u001b[38;5;241m+\u001b[39m\u001b[38;5;241m=\u001b[39m r\n",
      "Cell \u001b[0;32mIn[43], line 21\u001b[0m, in \u001b[0;36mInformedPlanner.plan\u001b[0;34m(self, force_replan)\u001b[0m\n\u001b[1;32m     19\u001b[0m rewards \u001b[38;5;241m=\u001b[39m np\u001b[38;5;241m.\u001b[39mzeros(action_sequences\u001b[38;5;241m.\u001b[39mshape[\u001b[38;5;241m0\u001b[39m])\n\u001b[1;32m     20\u001b[0m \u001b[38;5;28;01mfor\u001b[39;00m idx, seq \u001b[38;5;129;01min\u001b[39;00m \u001b[38;5;28menumerate\u001b[39m(action_sequences):\n\u001b[0;32m---> 21\u001b[0m     rewards[idx] \u001b[38;5;241m=\u001b[39m \u001b[38;5;28;43mself\u001b[39;49m\u001b[38;5;241;43m.\u001b[39;49m\u001b[43meval_act_seq\u001b[49m\u001b[43m(\u001b[49m\u001b[43mseq\u001b[49m\u001b[43m)\u001b[49m\n\u001b[1;32m     22\u001b[0m \u001b[38;5;28mself\u001b[39m\u001b[38;5;241m.\u001b[39mcem\u001b[38;5;241m.\u001b[39mupdate(rewards)\n\u001b[1;32m     24\u001b[0m \u001b[38;5;28;01mfor\u001b[39;00m act \u001b[38;5;129;01min\u001b[39;00m \u001b[38;5;28mself\u001b[39m\u001b[38;5;241m.\u001b[39mcem\u001b[38;5;241m.\u001b[39msolutions()\u001b[38;5;241m.\u001b[39mreshape(\u001b[38;5;241m-\u001b[39m\u001b[38;5;241m1\u001b[39m, \u001b[38;5;241m4\u001b[39m):\n",
      "Cell \u001b[0;32mIn[43], line 32\u001b[0m, in \u001b[0;36mInformedPlanner.eval_act_seq\u001b[0;34m(self, sequence)\u001b[0m\n\u001b[1;32m     30\u001b[0m \u001b[38;5;28;01mdef\u001b[39;00m \u001b[38;5;21meval_act_seq\u001b[39m(\u001b[38;5;28mself\u001b[39m, sequence):\n\u001b[1;32m     31\u001b[0m     rew_seq \u001b[38;5;241m=\u001b[39m \u001b[38;5;241m0\u001b[39m\n\u001b[0;32m---> 32\u001b[0m     \u001b[38;5;28;43mself\u001b[39;49m\u001b[38;5;241;43m.\u001b[39;49m\u001b[43menv\u001b[49m\u001b[38;5;241;43m.\u001b[39;49m\u001b[43mreset\u001b[49m\u001b[43m(\u001b[49m\u001b[43m)\u001b[49m\n\u001b[1;32m     33\u001b[0m     act_reshaped \u001b[38;5;241m=\u001b[39m sequence\u001b[38;5;241m.\u001b[39mreshape((\u001b[38;5;241m-\u001b[39m\u001b[38;5;241m1\u001b[39m, \u001b[38;5;241m4\u001b[39m))\n\u001b[1;32m     34\u001b[0m     \u001b[38;5;28;01mfor\u001b[39;00m act \u001b[38;5;129;01min\u001b[39;00m act_reshaped:\n",
      "File \u001b[0;32m~/PycharmProjects/lifelong_rl/venv/lib/python3.10/site-packages/metaworld/envs/mujoco/sawyer_xyz/sawyer_xyz_env.py:471\u001b[0m, in \u001b[0;36mSawyerXYZEnv.reset\u001b[0;34m(self)\u001b[0m\n\u001b[1;32m    469\u001b[0m     \u001b[38;5;28;01mreturn\u001b[39;00m \u001b[38;5;28msuper\u001b[39m()\u001b[38;5;241m.\u001b[39mreset()\n\u001b[1;32m    470\u001b[0m \u001b[38;5;28;01melse\u001b[39;00m:\n\u001b[0;32m--> 471\u001b[0m     obs \u001b[38;5;241m=\u001b[39m np\u001b[38;5;241m.\u001b[39mfloat64(\u001b[38;5;28;43msuper\u001b[39;49m\u001b[43m(\u001b[49m\u001b[43m)\u001b[49m\u001b[38;5;241;43m.\u001b[39;49m\u001b[43mreset\u001b[49m\u001b[43m(\u001b[49m\u001b[43m)\u001b[49m)\n\u001b[1;32m    472\u001b[0m     \u001b[38;5;28mself\u001b[39m\u001b[38;5;241m.\u001b[39m_prev_obs \u001b[38;5;241m=\u001b[39m obs[:\u001b[38;5;241m18\u001b[39m]\u001b[38;5;241m.\u001b[39mcopy()\n\u001b[1;32m    473\u001b[0m     obs[\u001b[38;5;241m18\u001b[39m:\u001b[38;5;241m36\u001b[39m] \u001b[38;5;241m=\u001b[39m \u001b[38;5;28mself\u001b[39m\u001b[38;5;241m.\u001b[39m_prev_obs\n",
      "File \u001b[0;32m~/PycharmProjects/lifelong_rl/venv/lib/python3.10/site-packages/metaworld/envs/mujoco/mujoco_env.py:25\u001b[0m, in \u001b[0;36m_assert_task_is_set.<locals>.inner\u001b[0;34m(*args, **kwargs)\u001b[0m\n\u001b[1;32m     20\u001b[0m \u001b[38;5;28;01mif\u001b[39;00m \u001b[38;5;129;01mnot\u001b[39;00m env\u001b[38;5;241m.\u001b[39m_set_task_called:\n\u001b[1;32m     21\u001b[0m     \u001b[38;5;28;01mraise\u001b[39;00m \u001b[38;5;167;01mRuntimeError\u001b[39;00m(\n\u001b[1;32m     22\u001b[0m         \u001b[38;5;124m'\u001b[39m\u001b[38;5;124mYou must call env.set_task before using env.\u001b[39m\u001b[38;5;124m'\u001b[39m\n\u001b[1;32m     23\u001b[0m         \u001b[38;5;241m+\u001b[39m func\u001b[38;5;241m.\u001b[39m\u001b[38;5;18m__name__\u001b[39m\n\u001b[1;32m     24\u001b[0m     )\n\u001b[0;32m---> 25\u001b[0m \u001b[38;5;28;01mreturn\u001b[39;00m \u001b[43mfunc\u001b[49m\u001b[43m(\u001b[49m\u001b[38;5;241;43m*\u001b[39;49m\u001b[43margs\u001b[49m\u001b[43m,\u001b[49m\u001b[43m \u001b[49m\u001b[38;5;241;43m*\u001b[39;49m\u001b[38;5;241;43m*\u001b[39;49m\u001b[43mkwargs\u001b[49m\u001b[43m)\u001b[49m\n",
      "File \u001b[0;32m~/PycharmProjects/lifelong_rl/venv/lib/python3.10/site-packages/metaworld/envs/mujoco/mujoco_env.py:91\u001b[0m, in \u001b[0;36mMujocoEnv.reset\u001b[0;34m(self)\u001b[0m\n\u001b[1;32m     89\u001b[0m \u001b[38;5;28mself\u001b[39m\u001b[38;5;241m.\u001b[39m_did_see_sim_exception \u001b[38;5;241m=\u001b[39m \u001b[38;5;28;01mFalse\u001b[39;00m\n\u001b[1;32m     90\u001b[0m \u001b[38;5;28mself\u001b[39m\u001b[38;5;241m.\u001b[39msim\u001b[38;5;241m.\u001b[39mreset()\n\u001b[0;32m---> 91\u001b[0m ob \u001b[38;5;241m=\u001b[39m \u001b[38;5;28;43mself\u001b[39;49m\u001b[38;5;241;43m.\u001b[39;49m\u001b[43mreset_model\u001b[49m\u001b[43m(\u001b[49m\u001b[43m)\u001b[49m\n\u001b[1;32m     92\u001b[0m \u001b[38;5;28;01mif\u001b[39;00m \u001b[38;5;28mself\u001b[39m\u001b[38;5;241m.\u001b[39mviewer \u001b[38;5;129;01mis\u001b[39;00m \u001b[38;5;129;01mnot\u001b[39;00m \u001b[38;5;28;01mNone\u001b[39;00m:\n\u001b[1;32m     93\u001b[0m     \u001b[38;5;28mself\u001b[39m\u001b[38;5;241m.\u001b[39mviewer_setup()\n",
      "File \u001b[0;32m~/PycharmProjects/lifelong_rl/venv/lib/python3.10/site-packages/metaworld/envs/mujoco/sawyer_xyz/v2/sawyer_plate_slide_side_v2.py:85\u001b[0m, in \u001b[0;36mSawyerPlateSlideSideEnvV2.reset_model\u001b[0;34m(self)\u001b[0m\n\u001b[1;32m     84\u001b[0m \u001b[38;5;28;01mdef\u001b[39;00m \u001b[38;5;21mreset_model\u001b[39m(\u001b[38;5;28mself\u001b[39m):\n\u001b[0;32m---> 85\u001b[0m     \u001b[38;5;28;43mself\u001b[39;49m\u001b[38;5;241;43m.\u001b[39;49m\u001b[43m_reset_hand\u001b[49m\u001b[43m(\u001b[49m\u001b[43m)\u001b[49m\n\u001b[1;32m     87\u001b[0m     \u001b[38;5;28mself\u001b[39m\u001b[38;5;241m.\u001b[39mobj_init_pos \u001b[38;5;241m=\u001b[39m \u001b[38;5;28mself\u001b[39m\u001b[38;5;241m.\u001b[39minit_config[\u001b[38;5;124m'\u001b[39m\u001b[38;5;124mobj_init_pos\u001b[39m\u001b[38;5;124m'\u001b[39m]\n\u001b[1;32m     88\u001b[0m     \u001b[38;5;28mself\u001b[39m\u001b[38;5;241m.\u001b[39m_target_pos \u001b[38;5;241m=\u001b[39m \u001b[38;5;28mself\u001b[39m\u001b[38;5;241m.\u001b[39mgoal\u001b[38;5;241m.\u001b[39mcopy()\n",
      "File \u001b[0;32m~/PycharmProjects/lifelong_rl/venv/lib/python3.10/site-packages/metaworld/envs/mujoco/sawyer_xyz/sawyer_xyz_env.py:480\u001b[0m, in \u001b[0;36mSawyerXYZEnv._reset_hand\u001b[0;34m(self, steps)\u001b[0m\n\u001b[1;32m    478\u001b[0m     \u001b[38;5;28mself\u001b[39m\u001b[38;5;241m.\u001b[39mdata\u001b[38;5;241m.\u001b[39mset_mocap_pos(\u001b[38;5;124m'\u001b[39m\u001b[38;5;124mmocap\u001b[39m\u001b[38;5;124m'\u001b[39m, \u001b[38;5;28mself\u001b[39m\u001b[38;5;241m.\u001b[39mhand_init_pos)\n\u001b[1;32m    479\u001b[0m     \u001b[38;5;28mself\u001b[39m\u001b[38;5;241m.\u001b[39mdata\u001b[38;5;241m.\u001b[39mset_mocap_quat(\u001b[38;5;124m'\u001b[39m\u001b[38;5;124mmocap\u001b[39m\u001b[38;5;124m'\u001b[39m, np\u001b[38;5;241m.\u001b[39marray([\u001b[38;5;241m1\u001b[39m, \u001b[38;5;241m0\u001b[39m, \u001b[38;5;241m1\u001b[39m, \u001b[38;5;241m0\u001b[39m]))\n\u001b[0;32m--> 480\u001b[0m     \u001b[38;5;28;43mself\u001b[39;49m\u001b[38;5;241;43m.\u001b[39;49m\u001b[43mdo_simulation\u001b[49m\u001b[43m(\u001b[49m\u001b[43m[\u001b[49m\u001b[38;5;241;43m-\u001b[39;49m\u001b[38;5;241;43m1\u001b[39;49m\u001b[43m,\u001b[49m\u001b[43m \u001b[49m\u001b[38;5;241;43m1\u001b[39;49m\u001b[43m]\u001b[49m\u001b[43m,\u001b[49m\u001b[43m \u001b[49m\u001b[38;5;28;43mself\u001b[39;49m\u001b[38;5;241;43m.\u001b[39;49m\u001b[43mframe_skip\u001b[49m\u001b[43m)\u001b[49m\n\u001b[1;32m    481\u001b[0m \u001b[38;5;28mself\u001b[39m\u001b[38;5;241m.\u001b[39minit_tcp \u001b[38;5;241m=\u001b[39m \u001b[38;5;28mself\u001b[39m\u001b[38;5;241m.\u001b[39mtcp_center\n",
      "File \u001b[0;32m~/PycharmProjects/lifelong_rl/venv/lib/python3.10/site-packages/metaworld/envs/mujoco/mujoco_env.py:120\u001b[0m, in \u001b[0;36mMujocoEnv.do_simulation\u001b[0;34m(self, ctrl, n_frames)\u001b[0m\n\u001b[1;32m    118\u001b[0m \u001b[38;5;28;01mfor\u001b[39;00m _ \u001b[38;5;129;01min\u001b[39;00m \u001b[38;5;28mrange\u001b[39m(n_frames):\n\u001b[1;32m    119\u001b[0m     \u001b[38;5;28;01mtry\u001b[39;00m:\n\u001b[0;32m--> 120\u001b[0m         \u001b[38;5;28;43mself\u001b[39;49m\u001b[38;5;241;43m.\u001b[39;49m\u001b[43msim\u001b[49m\u001b[38;5;241;43m.\u001b[39;49m\u001b[43mstep\u001b[49m\u001b[43m(\u001b[49m\u001b[43m)\u001b[49m\n\u001b[1;32m    121\u001b[0m     \u001b[38;5;28;01mexcept\u001b[39;00m mujoco_py\u001b[38;5;241m.\u001b[39mMujocoException \u001b[38;5;28;01mas\u001b[39;00m err:\n\u001b[1;32m    122\u001b[0m         warnings\u001b[38;5;241m.\u001b[39mwarn(\u001b[38;5;28mstr\u001b[39m(err), category\u001b[38;5;241m=\u001b[39m\u001b[38;5;167;01mRuntimeWarning\u001b[39;00m)\n",
      "\u001b[0;31mKeyboardInterrupt\u001b[0m: "
     ]
    }
   ],
   "source": [
    "planner = InformedPlanner(env_planner)\n",
    "\n",
    "TOT_avg_rew = []\n",
    "TOT_avg_rew.append(0)\n",
    "TOT_avg_rew.append(0)\n",
    "\n",
    "for ep in range(100):\n",
    "    \n",
    "    env_test.reset()\n",
    "\n",
    "    r_for_ep = 0\n",
    "    for h in range(100):\n",
    "        act = planner.plan()\n",
    "        s_prime, r, done, _ = env_test.step(act)\n",
    "        r_for_ep += r\n",
    "        if r==10.0:\n",
    "            done= True\n",
    "            print(f\"SOLVED IN {ep} iteration\")\n",
    "            break \n",
    "        print(f'episode {ep}, step {h}, reward  {r} | done? {done}')\n",
    "    if done == True: break\n",
    "    \n",
    "    TOT_avg_rew.append(r_for_ep)\n",
    "    print(f'prev avg rew {TOT_avg_rew[-2]}, actual avg rew {TOT_avg_rew[-1]}')\n",
    "    clear_output(wait=True)\n",
    "\n",
    "        "
   ]
  },
  {
   "cell_type": "code",
   "execution_count": 45,
   "id": "1b3e7cf3",
   "metadata": {},
   "outputs": [
    {
     "data": {
      "text/plain": [
       "[<matplotlib.lines.Line2D at 0x7f0ab46e9cf0>]"
      ]
     },
     "execution_count": 45,
     "metadata": {},
     "output_type": "execute_result"
    },
    {
     "data": {
      "image/png": "[encoded data removed]",
      "text/plain": [
       "<Figure size 640x480 with 1 Axes>"
      ]
     },
     "metadata": {},
     "output_type": "display_data"
    }
   ],
   "source": [
    "plt.plot(TOT_avg_rew)"
   ]
  },
  {
   "cell_type": "code",
   "execution_count": 6,
   "id": "3db65f2d",
   "metadata": {},
   "outputs": [],
   "source": [
    "planner = InformedPlanner(env_planner)\n",
    "\n",
    "acts_to_exec = planner.plan()\n",
    "acts_to_exec = acts_to_exec.reshape((-1, 4))"
   ]
  },
  {
   "cell_type": "code",
   "execution_count": 8,
   "id": "41310cfa",
   "metadata": {},
   "outputs": [],
   "source": [
    "import time"
   ]
  },
  {
   "cell_type": "code",
   "execution_count": 9,
   "id": "b147d1e8",
   "metadata": {},
   "outputs": [
    {
     "name": "stdout",
     "output_type": "stream",
     "text": [
      "Creating window glfw\n"
     ]
    }
   ],
   "source": [
    "env_test.reset()\n",
    "\n",
    "for idx, a in enumerate(acts_to_exec):\n",
    "    if idx == 0:\n",
    "        time.sleep(0.1)\n",
    "    time.sleep(0.005)\n",
    "    env_test.render()\n",
    "    env_test.step(a)\n",
    "env_test.close()"
   ]
  }
 ],
 "metadata": {
  "kernelspec": {
   "display_name": "VBLRL",
   "language": "python",
   "name": "vblrl"
  },
  "language_info": {
   "codemirror_mode": {
    "name": "ipython",
    "version": 3
   },
   "file_extension": ".py",
   "mimetype": "text/x-python",
   "name": "python",
   "nbconvert_exporter": "python",
   "pygments_lexer": "ipython3",
   "version": "3.10.6"
  }
 },
 "nbformat": 4,
 "nbformat_minor": 5
}
