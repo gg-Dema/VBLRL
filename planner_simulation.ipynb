{
 "cells": [
  {
   "cell_type": "code",
   "execution_count": 5,
   "id": "f0f71233",
   "metadata": {},
   "outputs": [
    {
     "name": "stdout",
     "output_type": "stream",
     "text": [
      "Defaulting to user installation because normal site-packages is not writeable\n",
      "Collecting metaworld\n",
      "  Cloning https://github.com/rlworkgroup/metaworld.git (to revision master) to /tmp/pip-install-d14b6t7h/metaworld_f9c023d73be344238832f89f2f3f2d6b\n",
      "  Running command git clone --filter=blob:none --quiet https://github.com/rlworkgroup/metaworld.git /tmp/pip-install-d14b6t7h/metaworld_f9c023d73be344238832f89f2f3f2d6b\n",
      "  Resolved https://github.com/rlworkgroup/metaworld.git to commit 04be337a12305e393c0caf0cbf5ec7755c7c8feb\n",
      "  Preparing metadata (setup.py) ... \u001b[?25ldone\n",
      "\u001b[?25hCollecting gym>=0.15.4\n",
      "  Using cached gym-0.26.2-py3-none-any.whl\n",
      "Collecting mujoco-py<2.2,>=2.0\n",
      "  Using cached mujoco_py-2.1.2.14-py3-none-any.whl (2.4 MB)\n",
      "Requirement already satisfied: numpy>=1.18 in /home/dema/.local/lib/python3.10/site-packages (from metaworld) (1.23.3)\n",
      "Collecting gym-notices>=0.0.4\n",
      "  Using cached gym_notices-0.0.8-py3-none-any.whl (3.0 kB)\n",
      "Collecting cloudpickle>=1.2.0\n",
      "  Using cached cloudpickle-2.2.1-py3-none-any.whl (25 kB)\n",
      "Collecting fasteners~=0.15\n",
      "  Using cached fasteners-0.18-py3-none-any.whl (18 kB)\n",
      "Collecting glfw>=1.4.0\n",
      "  Using cached glfw-2.5.9-py2.py27.py3.py30.py31.py32.py33.py34.py35.py36.py37.py38-none-manylinux2014_x86_64.whl (207 kB)\n",
      "Requirement already satisfied: cffi>=1.10 in /home/dema/.local/lib/python3.10/site-packages (from mujoco-py<2.2,>=2.0->metaworld) (1.15.1)\n",
      "Collecting Cython>=0.27.2\n",
      "  Using cached Cython-0.29.34-cp310-cp310-manylinux_2_17_x86_64.manylinux2014_x86_64.manylinux_2_24_x86_64.whl (1.9 MB)\n",
      "Collecting imageio>=2.1.2\n",
      "  Downloading imageio-2.28.1-py3-none-any.whl (3.4 MB)\n",
      "\u001b[2K     \u001b[38;2;114;156;31m━━━━━━━━━━━━━━━━━━━━━━━━━━━━━━━━━━━━━━━━\u001b[0m \u001b[32m3.4/3.4 MB\u001b[0m \u001b[31m654.3 kB/s\u001b[0m eta \u001b[36m0:00:00\u001b[0mm eta \u001b[36m0:00:01\u001b[0m[36m0:00:01\u001b[0m\n",
      "\u001b[?25hRequirement already satisfied: pycparser in /home/dema/.local/lib/python3.10/site-packages (from cffi>=1.10->mujoco-py<2.2,>=2.0->metaworld) (2.21)\n",
      "Requirement already satisfied: pillow>=8.3.2 in /usr/lib/python3/dist-packages (from imageio>=2.1.2->mujoco-py<2.2,>=2.0->metaworld) (9.0.1)\n",
      "Building wheels for collected packages: metaworld\n",
      "  Building wheel for metaworld (setup.py) ... \u001b[?25ldone\n",
      "\u001b[?25h  Created wheel for metaworld: filename=metaworld-0.1.0-py3-none-any.whl size=84319605 sha256=f5233eb417adeee8fc7ed07a36fe8b3a7d8b2643b8e7e283e02b8728534b9b2f\n",
      "  Stored in directory: /tmp/pip-ephem-wheel-cache-isvoj8fv/wheels/78/07/c9/7fa36960f82f522a9f9151e33f1ffc92baeefddbf35ddc6731\n",
      "Successfully built metaworld\n",
      "Installing collected packages: gym-notices, glfw, imageio, fasteners, Cython, cloudpickle, mujoco-py, gym, metaworld\n",
      "Successfully installed Cython-0.29.34 cloudpickle-2.2.1 fasteners-0.18 glfw-2.5.9 gym-0.26.2 gym-notices-0.0.8 imageio-2.28.1 metaworld-0.1.0 mujoco-py-2.1.2.14\n",
      "Note: you may need to restart the kernel to use updated packages.\n"
     ]
    }
   ],
   "source": [
    "%pip install git+https://github.com/rlworkgroup/metaworld.git@master#egg=metaworld"
   ]
  },
  {
   "cell_type": "code",
   "execution_count": 6,
   "id": "b498e30d",
   "metadata": {},
   "outputs": [
    {
     "name": "stdout",
     "output_type": "stream",
     "text": [
      "Compiling /home/dema/.local/lib/python3.10/site-packages/mujoco_py/cymj.pyx because it depends on /home/dema/.local/lib/python3.10/site-packages/mujoco_py/pxd/mujoco.pxd.\n",
      "[1/1] Cythonizing /home/dema/.local/lib/python3.10/site-packages/mujoco_py/cymj.pyx\n",
      "running build_ext\n",
      "building 'mujoco_py.cymj' extension\n",
      "INFO: C compiler: x86_64-linux-gnu-gcc -Wno-unused-result -Wsign-compare -DNDEBUG -g -fwrapv -O2 -Wall -g -fstack-protector-strong -Wformat -Werror=format-security -g -fwrapv -O2 -g -fstack-protector-strong -Wformat -Werror=format-security -Wdate-time -D_FORTIFY_SOURCE=2 -fPIC\n",
      "\n",
      "creating /home/dema/.local/lib/python3.10/site-packages/mujoco_py/generated/_pyxbld_2.1.2.14_310_linuxgpuextensionbuilder\n",
      "creating /home/dema/.local/lib/python3.10/site-packages/mujoco_py/generated/_pyxbld_2.1.2.14_310_linuxgpuextensionbuilder/temp.linux-x86_64-3.10\n",
      "creating /home/dema/.local/lib/python3.10/site-packages/mujoco_py/generated/_pyxbld_2.1.2.14_310_linuxgpuextensionbuilder/temp.linux-x86_64-3.10/home\n",
      "creating /home/dema/.local/lib/python3.10/site-packages/mujoco_py/generated/_pyxbld_2.1.2.14_310_linuxgpuextensionbuilder/temp.linux-x86_64-3.10/home/dema\n",
      "creating /home/dema/.local/lib/python3.10/site-packages/mujoco_py/generated/_pyxbld_2.1.2.14_310_linuxgpuextensionbuilder/temp.linux-x86_64-3.10/home/dema/.local\n",
      "creating /home/dema/.local/lib/python3.10/site-packages/mujoco_py/generated/_pyxbld_2.1.2.14_310_linuxgpuextensionbuilder/temp.linux-x86_64-3.10/home/dema/.local/lib\n",
      "creating /home/dema/.local/lib/python3.10/site-packages/mujoco_py/generated/_pyxbld_2.1.2.14_310_linuxgpuextensionbuilder/temp.linux-x86_64-3.10/home/dema/.local/lib/python3.10\n",
      "creating /home/dema/.local/lib/python3.10/site-packages/mujoco_py/generated/_pyxbld_2.1.2.14_310_linuxgpuextensionbuilder/temp.linux-x86_64-3.10/home/dema/.local/lib/python3.10/site-packages\n",
      "creating /home/dema/.local/lib/python3.10/site-packages/mujoco_py/generated/_pyxbld_2.1.2.14_310_linuxgpuextensionbuilder/temp.linux-x86_64-3.10/home/dema/.local/lib/python3.10/site-packages/mujoco_py\n",
      "creating /home/dema/.local/lib/python3.10/site-packages/mujoco_py/generated/_pyxbld_2.1.2.14_310_linuxgpuextensionbuilder/temp.linux-x86_64-3.10/home/dema/.local/lib/python3.10/site-packages/mujoco_py/gl\n",
      "INFO: compile options: '-I/home/dema/.local/lib/python3.10/site-packages/mujoco_py -I/home/dema/.mujoco/mujoco210/include -I/home/dema/.local/lib/python3.10/site-packages/numpy/core/include -I/home/dema/.local/lib/python3.10/site-packages/mujoco_py/vendor/egl -I/usr/include/python3.10 -c'\n",
      "extra options: '-fopenmp -w'\n",
      "INFO: x86_64-linux-gnu-gcc: /home/dema/.local/lib/python3.10/site-packages/mujoco_py/cymj.c\n",
      "INFO: x86_64-linux-gnu-gcc: /home/dema/.local/lib/python3.10/site-packages/mujoco_py/gl/eglshim.c\n",
      "creating /home/dema/.local/lib/python3.10/site-packages/mujoco_py/generated/_pyxbld_2.1.2.14_310_linuxgpuextensionbuilder/lib.linux-x86_64-3.10\n",
      "creating /home/dema/.local/lib/python3.10/site-packages/mujoco_py/generated/_pyxbld_2.1.2.14_310_linuxgpuextensionbuilder/lib.linux-x86_64-3.10/mujoco_py\n",
      "INFO: x86_64-linux-gnu-gcc -shared -Wl,-O1 -Wl,-Bsymbolic-functions -Wl,-Bsymbolic-functions -g -fwrapv -O2 -Wl,-Bsymbolic-functions -g -fwrapv -O2 -g -fstack-protector-strong -Wformat -Werror=format-security -Wdate-time -D_FORTIFY_SOURCE=2 /home/dema/.local/lib/python3.10/site-packages/mujoco_py/generated/_pyxbld_2.1.2.14_310_linuxgpuextensionbuilder/temp.linux-x86_64-3.10/home/dema/.local/lib/python3.10/site-packages/mujoco_py/cymj.o /home/dema/.local/lib/python3.10/site-packages/mujoco_py/generated/_pyxbld_2.1.2.14_310_linuxgpuextensionbuilder/temp.linux-x86_64-3.10/home/dema/.local/lib/python3.10/site-packages/mujoco_py/gl/eglshim.o -L/home/dema/.mujoco/mujoco210/bin -Wl,--enable-new-dtags,-R/home/dema/.mujoco/mujoco210/bin -lmujoco210 -lglewegl -o /home/dema/.local/lib/python3.10/site-packages/mujoco_py/generated/_pyxbld_2.1.2.14_310_linuxgpuextensionbuilder/lib.linux-x86_64-3.10/mujoco_py/cymj.cpython-310-x86_64-linux-gnu.so -fopenmp\n"
     ]
    }
   ],
   "source": [
    "import metaworld"
   ]
  },
  {
   "cell_type": "code",
   "execution_count": 8,
   "id": "ee9f7327",
   "metadata": {},
   "outputs": [],
   "source": [
    "import numpy as np\n",
    "import random "
   ]
  },
  {
   "cell_type": "code",
   "execution_count": 11,
   "id": "f6045860",
   "metadata": {},
   "outputs": [],
   "source": [
    "class fake_dynamics:\n",
    "\n",
    "    def __init__(self):\n",
    "        ml1 = metaworld.ML1('pick-place-v2')\n",
    "        task = random.choice(ml1.train_tasks)\n",
    "        self.env = ml1.train_classes['pick-place-v2']()\n",
    "        self.env.set_task(task)\n",
    "\n",
    "    def forward(self, action):\n",
    "        return_val = self.env.step(action)\n",
    "        next_state, reward = return_val[:2]\n",
    "        return next_state, reward\n",
    "\n"
   ]
  },
  {
   "cell_type": "code",
   "execution_count": 12,
   "id": "1878c265",
   "metadata": {},
   "outputs": [],
   "source": [
    "class CEM_opt:\n",
    "    '''\n",
    "    gradient free optimizer\n",
    "    We want to use it for get the action distribution\n",
    "    QUESTION: HOW IS RELATED TO THE ORIGINAL STATE?\n",
    "    '''\n",
    "\n",
    "    def __init__(self, cost_funct,\n",
    "                 population_shape,   # action dim * task horizon\n",
    "                 numb_population: int = 10,\n",
    "                 numb_elite: int = 5):\n",
    "        self.cost_funct = cost_funct\n",
    "        self.numb_elite = numb_elite\n",
    "        self.numb_population = numb_population\n",
    "        self.population_shape = population_shape\n",
    "        self.mean_vect = np.zeros(self.population_shape)\n",
    "        self.std = np.ones(self.population_shape)\n",
    "\n",
    "        self.population = [\n",
    "            self.mean_vect + np.random.rand(self.population_shape)*self.std\n",
    "            for i in range(self.numb_population)\n",
    "        ]\n",
    "\n",
    "    def update(self):\n",
    "        rewards = [self.cost_funct(weights) for weights in self.population]\n",
    "        elite_idxs = np.array(rewards).argsort()[-self.numb_elite:]\n",
    "        elite_weights = [self.population[idx] for idx in elite_idxs]\n",
    "        self.mean_vect = np.array(elite_weights).mean()\n",
    "        self.std = np.array(elite_weights).std()\n",
    "\n",
    "        self.population = [\n",
    "            self.mean_vect + np.random.rand(self.population_shape)*self.std\n",
    "            for i in range(self.numb_population)\n",
    "        ]\n",
    "\n",
    "    def get_solution(self):\n",
    "        return self.mean_vect\n"
   ]
  },
  {
   "cell_type": "code",
   "execution_count": 14,
   "id": "a0916042",
   "metadata": {},
   "outputs": [],
   "source": [
    "class Planner:\n",
    "\n",
    "    def __init__(self, dynamics, action_dim=4, plan_hor=20, popsize=500):\n",
    "        #self.dynamics = dynamics\n",
    "        self.dynamics = fake_dynamics()\n",
    "\n",
    "        self.action_dim = action_dim\n",
    "        self.action_buffer = np.array([]).reshape(0, self.action_dim)\n",
    "\n",
    "        self.plan_hor = plan_hor\n",
    "        self.cem_optimizer = CEM_opt(self.rollout_funct,\n",
    "                                     population_shape=self.action_dim*self.plan_hor\n",
    "                                     )\n",
    "\n",
    "    def rollout_funct(self, actions):\n",
    "        '''\n",
    "        :param actions: 1D vector : action sequence\n",
    "        :return: cumulative rewards\n",
    "        '''\n",
    "        reward = 0\n",
    "        for a in actions:\n",
    "            next_s, r = self.dynamics.forward(a)\n",
    "            reward += r\n",
    "        return reward\n",
    "\n",
    "    def get_action(self):\n",
    "        if self.action_buffer.shape[0] > 0:\n",
    "\n",
    "            action = self.action_buffer[0]\n",
    "            self.action_buffer = self.action_buffer[1:]\n",
    "            return action\n",
    "\n",
    "        solution = self.cem_optimizer.get_solution()\n",
    "        # manca l'update del cem : non spetta al planner\n",
    "        return self.get_action()\n",
    "        # add solution to action_buffer\n",
    "\n",
    "        # to understand : role of previous solution of original code\n",
    "        # in the main code the part of self.prev_sol = np.concat Put the last action = 0\n"
   ]
  }
 ],
 "metadata": {
  "kernelspec": {
   "display_name": "vblrl",
   "language": "python",
   "name": "vblrl"
  },
  "language_info": {
   "codemirror_mode": {
    "name": "ipython",
    "version": 3
   },
   "file_extension": ".py",
   "mimetype": "text/x-python",
   "name": "python",
   "nbconvert_exporter": "python",
   "pygments_lexer": "ipython3",
   "version": "3.10.6"
  }
 },
 "nbformat": 4,
 "nbformat_minor": 5
}
