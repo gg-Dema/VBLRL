{
 "cells": [
  {
   "cell_type": "code",
   "execution_count": 1,
   "id": "00867f94",
   "metadata": {},
   "outputs": [],
   "source": [
    "#test on rl worl_model net\n",
    "from metaworld.envs import (ALL_V2_ENVIRONMENTS_GOAL_OBSERVABLE)\n",
    "from bnn import BNN\n",
    "import numpy as np\n",
    "import torch.nn as nn\n",
    "import torch"
   ]
  },
  {
   "cell_type": "code",
   "execution_count": 2,
   "id": "688c765a",
   "metadata": {},
   "outputs": [],
   "source": [
    "DEVICE = 'cuda:0'"
   ]
  },
  {
   "cell_type": "code",
   "execution_count": 3,
   "id": "87396375",
   "metadata": {},
   "outputs": [
    {
     "name": "stderr",
     "output_type": "stream",
     "text": [
      "/home/dema/PycharmProjects/lifelong_rl/venv/lib/python3.10/site-packages/gym/spaces/box.py:127: UserWarning: \u001b[33mWARN: Box bound precision lowered by casting to float64\u001b[0m\n",
      "  logger.warn(f\"Box bound precision lowered by casting to {self.dtype}\")\n",
      "/home/dema/PycharmProjects/lifelong_rl/venv/lib/python3.10/site-packages/gym/spaces/box.py:127: UserWarning: \u001b[33mWARN: Box bound precision lowered by casting to float32\u001b[0m\n",
      "  logger.warn(f\"Box bound precision lowered by casting to {self.dtype}\")\n"
     ]
    }
   ],
   "source": [
    "torch.set_default_dtype(torch.float64)\n",
    "class_env = \"door-open-v2-goal-observable\"\n",
    "door_open_goal_observable_cls = ALL_V2_ENVIRONMENTS_GOAL_OBSERVABLE[class_env]\n",
    "env = door_open_goal_observable_cls()\n",
    "\n",
    "action_space_shape = env.action_space.shape[0]\n",
    "obs_space_shape = env.observation_space.shape[0]"
   ]
  },
  {
   "cell_type": "code",
   "execution_count": 4,
   "id": "edaba46b",
   "metadata": {},
   "outputs": [],
   "source": [
    "s = env.reset()\n",
    "dyna = BNN(action_space_shape,\n",
    "            obs_space_shape,\n",
    "            reward_dim=1).to(DEVICE)\n",
    "world_model_state = torch.load('model_stock/world/model_envWorld_small_kl_checkpoint80000.pth')\n",
    "dyna.copy_params_from_world_model(world_model_state)"
   ]
  },
  {
   "cell_type": "code",
   "execution_count": 5,
   "id": "b372ecfa",
   "metadata": {},
   "outputs": [
    {
     "data": {
      "text/plain": [
       "tensor([-0.1304,  0.9361, -0.1644,  0.3671, -1.1246,  0.2806,  0.2292,  0.3678,\n",
       "         0.8632,  0.5102,  1.5793, -0.5993, -0.3602,  0.7561, -0.2607, -0.3539,\n",
       "        -0.2226,  0.0397,  0.8898,  0.7100, -0.1245, -0.6392, -1.0275,  0.1725,\n",
       "        -0.8990,  0.5207,  0.1441,  0.6406, -0.2344, -0.6517, -0.4486, -0.2282,\n",
       "         0.3794,  0.2772,  0.2232,  0.0810,  0.4103,  0.5063,  0.0221, -0.5671],\n",
       "       device='cuda:0', grad_fn=<AddBackward0>)"
      ]
     },
     "execution_count": 5,
     "metadata": {},
     "output_type": "execute_result"
    }
   ],
   "source": [
    "act = torch.randn(4)\n",
    "X = torch.cat([torch.from_numpy(s), act]).to(DEVICE)\n",
    "dyna(X)"
   ]
  },
  {
   "cell_type": "code",
   "execution_count": 8,
   "id": "75b38226",
   "metadata": {},
   "outputs": [],
   "source": [
    "from multi_lev_nn import Propagation_net\n",
    "from cem_optimizer_v2 import CEM_opt\n",
    "\n",
    "num_particle = 50\n",
    "cem = CEM_opt(num_particle)\n",
    "prop_net = Propagation_net(num_particle)\n",
    "prop_net.model_to_gpu()\n",
    "\n"
   ]
  },
  {
   "cell_type": "code",
   "execution_count": 9,
   "id": "185c5925",
   "metadata": {},
   "outputs": [],
   "source": [
    "import time"
   ]
  },
  {
   "cell_type": "code",
   "execution_count": 10,
   "id": "ddc017ca",
   "metadata": {},
   "outputs": [
    {
     "name": "stdout",
     "output_type": "stream",
     "text": [
      "time for 10 ep: 6.701117038726807\n"
     ]
    }
   ],
   "source": [
    "s = env.reset()\n",
    "rewards_for_ep = np.zeros((1, 2))\n",
    "t = time.time()\n",
    "# 1 full planning step:\n",
    "for ep in range(1):\n",
    "    \n",
    "    horizon_rewards = np.zeros(2)\n",
    "    for h in range(2): # plan horizon\n",
    "        s = torch.from_numpy(s).to(DEVICE)\n",
    "\n",
    "        #plan step\n",
    "        act_sequences = torch.from_numpy(cem.population).to(DEVICE)\n",
    "        plan_rewards = np.zeros(act_sequences.shape[0])   \n",
    "        for idx, act_seq in enumerate(act_sequences):\n",
    "            act_seq = act_seq.to(DEVICE)\n",
    "            prop_net.sample_from(dyna)\n",
    "            plan_rewards[idx] = prop_net.propagate(s, act_seq ).cpu().detach().numpy()\n",
    "        cem.update(plan_rewards)\n",
    "\n",
    "        best_act = cem.solutions()[:action_space_shape]\n",
    "        s, r, d, info = env.step(best_act)\n",
    "        horizon_rewards[h] = r\n",
    "        \n",
    "    rewards_for_ep[ep] = horizon_rewards\n",
    "\n",
    "print('time for 10 ep:', time.time() - t)\n"
   ]
  },
  {
   "cell_type": "code",
   "execution_count": 11,
   "id": "62d3d7f8",
   "metadata": {},
   "outputs": [
    {
     "data": {
      "text/plain": [
       "array([0.38449622, 0.42597993, 0.40276965, 0.27138755, 0.41832809,\n",
       "       0.6423669 , 0.41482357, 0.6845484 , 0.34421033, 0.34833691,\n",
       "       0.467046  , 0.55262818, 0.469669  , 0.29760448, 0.44785983,\n",
       "       0.36239813, 0.43423505, 0.36475662, 0.43022591, 0.31058636,\n",
       "       0.23653314, 0.46944177, 0.32913878, 0.3919809 , 0.60805637,\n",
       "       0.3415954 , 0.29135307, 0.47940163, 0.31924628, 0.49533109,\n",
       "       0.37401359, 0.25312306, 0.39187549, 0.36872228, 0.28845616,\n",
       "       0.23088496, 0.52820339, 0.86821384, 0.34632887, 0.56968696,\n",
       "       0.31219066, 0.44370236, 0.44469619, 0.45990277, 0.33693032,\n",
       "       0.56292083, 0.3197465 , 0.55353843, 0.49008214, 0.41539506])"
      ]
     },
     "execution_count": 11,
     "metadata": {},
     "output_type": "execute_result"
    }
   ],
   "source": [
    "plan_rewards"
   ]
  },
  {
   "cell_type": "code",
   "execution_count": 12,
   "id": "9ede3eb4",
   "metadata": {},
   "outputs": [
    {
     "data": {
      "text/plain": [
       "0.6634128223974651"
      ]
     },
     "execution_count": 12,
     "metadata": {},
     "output_type": "execute_result"
    }
   ],
   "source": []
  }
 ],
 "metadata": {
  "kernelspec": {
   "display_name": "VBLRL",
   "language": "python",
   "name": "vblrl"
  },
  "language_info": {
   "codemirror_mode": {
    "name": "ipython",
    "version": 3
   },
   "file_extension": ".py",
   "mimetype": "text/x-python",
   "name": "python",
   "nbconvert_exporter": "python",
   "pygments_lexer": "ipython3",
   "version": "3.10.6"
  }
 },
 "nbformat": 4,
 "nbformat_minor": 5
}
