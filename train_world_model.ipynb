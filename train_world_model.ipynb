{
 "cells": [
  {
   "cell_type": "code",
   "execution_count": 1,
   "metadata": {},
   "outputs": [],
   "source": [
    "from buffers import MultiEnvReplayBuffer\n",
    "from bnn import BNN\n",
    "from lion_opt import Lion\n",
    "from planner_module_v3 import Planner\n",
    "from metaworld.envs import (ALL_V2_ENVIRONMENTS_GOAL_OBSERVABLE)\n",
    "import numpy as np\n",
    "import matplotlib.pyplot as plt\n",
    "import torchbnn as bnn\n",
    "import torch.nn as nn\n",
    "import torch\n",
    "import pickle\n",
    "import json\n",
    "import random\n",
    "import os\n",
    "import tqdm \n",
    "\n",
    "''' \n",
    "This main is project for run with the MetaWorld benchmark suite, \n",
    "for any migration to new benchmark, modify the bnn structure\n",
    "'''\n",
    "\n",
    "# for maximum compatibility with numpy array\n",
    "torch.set_default_dtype(torch.float64)\n",
    "torch.manual_seed(42)\n",
    "random.seed(42)\n",
    "np.random.seed(42)\n"
   ]
  },
  {
   "cell_type": "code",
   "execution_count": 3,
   "metadata": {},
   "outputs": [],
   "source": [
    "def update_with_elbo(net, buffer, optimizer, task_id):\n",
    "    states, actions, rewards, next_states, dones = buffer.sample_all_envs(batch_size=BATCH_SIZE) if (\n",
    "                task_id == -1) else buffer.sample_env(task_id, batch_size=BATCH_SIZE)\n",
    "\n",
    "    optimizer.zero_grad()\n",
    "    x = torch.Tensor(np.concatenate((states, actions), axis=-1)).to(DEVICE)\n",
    "    y_true = torch.Tensor(np.concatenate((next_states, rewards), axis=-1)).to(DEVICE)\n",
    "    y_pred = net(x)\n",
    "\n",
    "    mse = mse_loss(y_pred, y_true)\n",
    "    kl = kl_loss(net)\n",
    "    loss = mse + KL_WEIGHT * kl\n",
    "    loss.backward()\n",
    "    optimizer.step()\n",
    "    return mse.item(), kl.item(), loss.item()\n"
   ]
  },
  {
   "cell_type": "code",
   "execution_count": 4,
   "metadata": {},
   "outputs": [],
   "source": [
    "\n",
    "def save_json_update(json_obj):\n",
    "    with open('config_parameters.json', 'w') as f:\n",
    "        json.dump(json_obj, f)\n",
    "\n",
    "\n",
    "def json_load():\n",
    "    with open('config_parameters.json', 'r') as f:\n",
    "        config_file = json.load(f)\n",
    "    return config_file\n",
    "\n",
    "\n",
    "def save_torch_models(models: dict, path,):\n",
    "    for k, model in models.items():\n",
    "        name = os.path.join(path, f'model_env{k}.pth')\n",
    "        torch.save(model.state_dict(), name)\n",
    "\n",
    "\n",
    "def save_binary_objs(objs, path, name_template: str):\n",
    "    for k, obj in objs.items():\n",
    "        name = os.path.join(path, name_template+f'{k}.pkl')\n",
    "        with open(name, 'wb') as f:\n",
    "            pickle.dump(obj, f)\n",
    "\n",
    "\n",
    "def load_binary_file(path):\n",
    "    with open(path, 'rb') as f:\n",
    "        obj = pickle.load(f)\n",
    "    return obj\n",
    "\n"
   ]
  },
  {
   "cell_type": "code",
   "execution_count": 5,
   "metadata": {},
   "outputs": [
    {
     "name": "stdout",
     "output_type": "stream",
     "text": [
      "old buffer to load: name: ['buffer_env43.pkl', 'buffer_env29.pkl', 'buffer_env40.pkl', 'buffer_env10.pkl', 'buffer_env49.pkl', 'buffer_env19.pkl', 'buffer_env45.pkl', 'buffer_env35.pkl', 'buffer_env50.pkl', 'buffer_env06.pkl', 'buffer_env18.pkl', 'buffer_env07.pkl', 'buffer_env12.pkl', 'buffer_env00.pkl', 'buffer_env36.pkl', 'buffer_env05.pkl', 'buffer_env30.pkl', 'buffer_env37.pkl', 'buffer_env14.pkl', 'buffer_env38.pkl', 'buffer_env24.pkl', 'buffer_env17.pkl', 'buffer_env44.pkl', 'buffer_env27.pkl', 'buffer_env03.pkl', 'buffer_env02.pkl']\n",
      "processing buffer path : buffer_stock/buffer_env43.pkl\n",
      "processing buffer path : buffer_stock/buffer_env29.pkl\n",
      "processing buffer path : buffer_stock/buffer_env40.pkl\n",
      "processing buffer path : buffer_stock/buffer_env10.pkl\n",
      "processing buffer path : buffer_stock/buffer_env49.pkl\n",
      "processing buffer path : buffer_stock/buffer_env19.pkl\n",
      "processing buffer path : buffer_stock/buffer_env45.pkl\n",
      "processing buffer path : buffer_stock/buffer_env35.pkl\n",
      "processing buffer path : buffer_stock/buffer_env50.pkl\n",
      "processing buffer path : buffer_stock/buffer_env06.pkl\n",
      "processing buffer path : buffer_stock/buffer_env18.pkl\n",
      "processing buffer path : buffer_stock/buffer_env07.pkl\n",
      "processing buffer path : buffer_stock/buffer_env12.pkl\n",
      "processing buffer path : buffer_stock/buffer_env00.pkl\n",
      "processing buffer path : buffer_stock/buffer_env36.pkl\n",
      "processing buffer path : buffer_stock/buffer_env05.pkl\n",
      "processing buffer path : buffer_stock/buffer_env30.pkl\n",
      "processing buffer path : buffer_stock/buffer_env37.pkl\n",
      "processing buffer path : buffer_stock/buffer_env14.pkl\n",
      "processing buffer path : buffer_stock/buffer_env38.pkl\n",
      "processing buffer path : buffer_stock/buffer_env24.pkl\n",
      "processing buffer path : buffer_stock/buffer_env17.pkl\n",
      "processing buffer path : buffer_stock/buffer_env44.pkl\n",
      "processing buffer path : buffer_stock/buffer_env27.pkl\n",
      "processing buffer path : buffer_stock/buffer_env03.pkl\n",
      "processing buffer path : buffer_stock/buffer_env02.pkl\n"
     ]
    }
   ],
   "source": [
    "config = json_load()\n",
    "\n",
    "# nested struct\n",
    "buff_config = config['buffer']\n",
    "train_config =  config['train']\n",
    "const_config = config['const']\n",
    "\n",
    "DEVICE = const_config['DEVICE']\n",
    "BATCH_SIZE = train_config['BATCH_SIZE']\n",
    "KL_WEIGHT = 0.0001\n",
    "\n",
    "multibuffer = MultiEnvReplayBuffer(\n",
    "        buffer_size_per_env=buff_config['max_size_for_env']\n",
    "    )\n",
    "    # ----- load automatically all the buffer ------\n",
    "if buff_config['preload']:\n",
    "    multibuffer.read_buffers(buff_config['IO_option']['path'],\n",
    "                             buff_config['IO_option']['from_scratch']\n",
    "                             )\n"
   ]
  },
  {
   "cell_type": "code",
   "execution_count": 10,
   "metadata": {},
   "outputs": [],
   "source": [
    "world_model = BNN(action_dim=const_config['ACTION_SHAPE'],\n",
    "                      obs_dim=const_config['OBS_SHAPE'],\n",
    "                      reward_dim=const_config['REWARD_SHAPE']\n",
    "                      ).to(DEVICE)\n",
    "#world_model.load_state_dict(torch.load('model_stock/world/model_envWorld.pth'))\n",
    "\n",
    "outer_opt = Lion(world_model.parameters(), lr=1e-5)\n",
    "mse_loss = nn.MSELoss().to(DEVICE)\n",
    "kl_loss = bnn.BKLLoss(reduction='mean', last_layer_only=False).to(DEVICE)\n",
    "   "
   ]
  },
  {
   "cell_type": "code",
   "execution_count": 11,
   "metadata": {},
   "outputs": [],
   "source": [
    "\n",
    "losses_mse = []\n",
    "losses_kl = []\n",
    "total_loss = []\n",
    "\n",
    "\n",
    "losses_kl_partial = []\n",
    "losses_mse_partial = []\n",
    "total_loss_partial = []\n"
   ]
  },
  {
   "cell_type": "code",
   "execution_count": 40,
   "metadata": {},
   "outputs": [
    {
     "name": "stderr",
     "output_type": "stream",
     "text": [
      "100%|███████████████████████████████████████████████████████████████████████████████████████████████████████████████████████████████████████████████████████████████████████████████████| 10000/10000 [00:37<00:00, 266.71it/s]\n"
     ]
    }
   ],
   "source": [
    "\n",
    "\n",
    "iteration = 10000\n",
    "for i in tqdm.tqdm(range(iteration)):\n",
    "\n",
    "    loss = update_with_elbo(world_model, multibuffer, optimizer=outer_opt, task_id=-1)\n",
    "    losses_mse_partial.append(loss[0])\n",
    "    losses_kl_partial.append(loss[1])\n",
    "    total_loss_partial.append(loss[2])\n",
    "\n",
    "    if i%10 == 0:\n",
    "        losses_mse.append(sum(losses_mse_partial)/10)\n",
    "        losses_kl.append(sum(losses_kl_partial)/10)\n",
    "        total_loss.append(sum(total_loss_partial)/10)\n",
    "        \n",
    "        losses_kl_partial = []\n",
    "        losses_mse_partial = []\n",
    "        total_loss_partial = []"
   ]
  },
  {
   "cell_type": "code",
   "execution_count": 42,
   "metadata": {},
   "outputs": [
    {
     "data": {
      "image/png": "[encoded data removed]",
      "text/plain": [
       "<Figure size 1500x500 with 3 Axes>"
      ]
     },
     "metadata": {},
     "output_type": "display_data"
    }
   ],
   "source": [
    "\n",
    "fig, axes = plt.subplots(1, 3, figsize=(15, 5))\n",
    "axes[0].plot(losses_mse), axes[0].set_title('MSE loss')\n",
    "axes[1].plot(losses_kl), axes[1].set_title('KL_loss')\n",
    "axes[2].plot(total_loss), axes[2].set_title('TOT loss')\n",
    "\n",
    "plt.show()"
   ]
  },
  {
   "cell_type": "code",
   "execution_count": 87,
   "metadata": {},
   "outputs": [],
   "source": [
    "save_torch_models({f'World_small_kl_checkpoint{len(total_loss*10)}': world_model}, train_config['path_world_model'])"
   ]
  },
  {
   "cell_type": "code",
   "execution_count": 86,
   "metadata": {},
   "outputs": [
    {
     "data": {
      "text/plain": [
       "tensor([ 0.5480,  0.8174, -0.1775,  1.2501, -0.3675,  0.0504,  0.2276,  0.6093,\n",
       "        -1.4444,  0.0358, -0.1196,  0.4294,  0.5241, -0.0062,  0.2592,  0.4730,\n",
       "        -0.0873,  0.1103,  0.7002,  0.1524,  0.1167,  1.0761,  0.6251,  0.0847,\n",
       "         0.3588,  0.4615,  0.8163, -0.7078,  0.2649,  0.4801,  1.0594,  0.3669,\n",
       "        -1.3374, -1.1564, -0.7548,  0.3235, -0.0414, -0.0427,  1.2769, -0.1660],\n",
       "       device='cuda:0', grad_fn=<AddBackward0>)"
      ]
     },
     "execution_count": 86,
     "metadata": {},
     "output_type": "execute_result"
    }
   ],
   "source": [
    "s, a, r, ns, d  = multibuffer.sample_env(0, 1)\n",
    "X = torch.concat([torch.from_numpy(s).reshape(-1), torch.from_numpy(a).reshape(-1)]).to(DEVICE)\n",
    "world_model(X)"
   ]
  },
  {
   "cell_type": "code",
   "execution_count": 58,
   "metadata": {},
   "outputs": [],
   "source": []
  }
 ],
 "metadata": {
  "kernelspec": {
   "display_name": "VBLRL",
   "language": "python",
   "name": "vblrl"
  },
  "language_info": {
   "codemirror_mode": {
    "name": "ipython",
    "version": 3
   },
   "file_extension": ".py",
   "mimetype": "text/x-python",
   "name": "python",
   "nbconvert_exporter": "python",
   "pygments_lexer": "ipython3",
   "version": "3.10.6"
  }
 },
 "nbformat": 4,
 "nbformat_minor": 2
}
